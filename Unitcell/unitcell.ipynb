{
 "cells": [
  {
   "cell_type": "code",
   "execution_count": 80,
   "metadata": {},
   "outputs": [],
   "source": [
    "import numpy as np\n",
    "import math"
   ]
  },
  {
   "cell_type": "code",
   "execution_count": 125,
   "metadata": {},
   "outputs": [],
   "source": [
    "coords = np.empty((0))\n",
    "with open(\"unitcell\", \"r\") as file:\n",
    "    for line in file.readlines()[2:]:\n",
    "        line_s = line.split()\n",
    "        if line_s[0] != \"HETATM\":\n",
    "            break\n",
    "        #print(line_s[5:8])line_s[5:8]\n",
    "        coords = np.append(coords, np.array(line_s[5:8],dtype=float))\n",
    "\n",
    "coords = coords.reshape(-1,3)\n",
    "\n",
    "def CalcUnitCell(coords):\n",
    "    def ShiftOrigin(coords):\n",
    "        coordsT = coords.T\n",
    "        x_min, y_min, z_min = coordsT[0].min() , coordsT[1].min(), coordsT[2].min()\n",
    "        coordsT[0], coordsT[1], coordsT[2] = coordsT[0] + abs(x_min), coordsT[1] + abs(y_min), coordsT[2] + abs(z_min)\n",
    "        return coordsT.T\n",
    "    \n",
    "    shiftedCoords = ShiftOrigin(coords)\n",
    "    \n",
    "    x_max, y_max, z_max = shiftedCoords.T[0].max() , shiftedCoords.T[1].max(), shiftedCoords.T[2].max()\n",
    "    return shiftedCoords, (x_max, y_max, z_max)\n",
    "\n",
    "coords , cell  = CalcUnitCell(coords)\n",
    "x_offset = 15\n",
    "atomsWritten = 0\n",
    "with open(\"unitcell\", \"r\") as file:\n",
    "    with open(\"write\", \"w\") as writer:\n",
    "        for i,line in enumerate(file.readlines()):\n",
    "            if i == 2:\n",
    "                writer.write(f\"CRYST1   {math.ceil(cell[0])+x_offset}.000   {math.ceil(cell[1])}.000   {math.ceil(cell[2])}.000  90.00  90.00  90.00 P 1           1\\n\")\n",
    "            if line.startswith((\"HETATM\", \"ATM\")):\n",
    "                lineS = line.split()  \n",
    "                writer.write(f\"{lineS[0]}   {lineS[1]:>2}  {lineS[2]}   {lineS[3]}     {lineS[4]}      {coords[atomsWritten][0]:.3f}  {coords[atomsWritten][1]:.3f}  {coords[atomsWritten][2]:.3f}  {lineS[8]}  {lineS[9]}           {lineS[10]}\\n\")  \n",
    "                atomsWritten += 1\n",
    "            else:\n",
    "                writer.write(line)"
   ]
  },
  {
   "cell_type": "code",
   "execution_count": 85,
   "metadata": {},
   "outputs": [
    {
     "name": "stdout",
     "output_type": "stream",
     "text": [
      "[[ 0.756  7.089  2.813]\n",
      " [ 0.398  5.973  2.077]\n",
      " [ 1.004  4.56   3.926]\n",
      " [ 1.334  5.683  4.666]\n",
      " [ 1.223  6.947  4.11 ]\n",
      " [ 0.652  8.068  2.381]\n",
      " [ 0.     6.071  1.083]\n",
      " [ 1.088  3.581  4.36 ]\n",
      " [ 1.679  5.567  5.678]\n",
      " [ 1.487  7.815  4.687]\n",
      " [ 0.075  3.603  1.844]\n",
      " [ 0.735  2.613  1.589]\n",
      " [ 2.116  2.456  1.938]\n",
      " [ 3.102  3.359  1.566]\n",
      " [ 2.47   1.258  2.54 ]\n",
      " [ 4.43   3.077  1.829]\n",
      " [ 2.839  4.274  1.07 ]\n",
      " [ 3.796  0.988  2.829]\n",
      " [ 1.703  0.546  2.782]\n",
      " [ 4.776  1.898  2.469]\n",
      " [ 5.202  3.771  1.551]\n",
      " [ 4.078  0.076  3.322]\n",
      " [ 0.554  4.708  2.622]\n",
      " [ 6.083  1.642  2.763]\n",
      " [ 6.813  0.959  1.771]\n",
      " [ 6.828  1.532  0.85 ]\n",
      " [ 6.352  0.     1.557]\n",
      " [ 8.203  0.767  2.286]\n",
      " [ 8.747  1.095  3.486]\n",
      " [ 9.164  0.178  1.542]\n",
      " [ 8.342  1.565  4.354]\n",
      " [10.024  0.679  3.391]\n",
      " [10.241  0.131  2.215]\n",
      " [11.097  0.777  4.365]\n",
      " [10.727  0.39   5.306]\n",
      " [11.875  0.114  4.017]\n",
      " [11.633  2.192  4.581]\n",
      " [10.828  2.865  4.861]\n",
      " [12.306  2.15   5.431]\n",
      " [12.431  2.796  3.428]\n",
      " [13.189  3.843  4.014]\n",
      " [13.116  2.06   3.016]\n",
      " [11.587  3.363  2.293]\n",
      " [13.786  4.676  3.134]\n",
      " [11.006  2.594  1.812]\n",
      " [10.921  4.128  2.683]\n",
      " [12.409  3.913  1.288]\n",
      " [13.375  4.728  1.757]\n",
      " [14.774  5.536  3.419]\n",
      " [14.064  5.627  1.04 ]\n",
      " [15.247  5.688  4.367]\n",
      " [15.238  6.439  2.018]\n",
      " [13.95   5.849  0.   ]]\n"
     ]
    }
   ],
   "source": []
  }
 ],
 "metadata": {
  "kernelspec": {
   "display_name": ".venv",
   "language": "python",
   "name": "python3"
  },
  "language_info": {
   "codemirror_mode": {
    "name": "ipython",
    "version": 3
   },
   "file_extension": ".py",
   "mimetype": "text/x-python",
   "name": "python",
   "nbconvert_exporter": "python",
   "pygments_lexer": "ipython3",
   "version": "3.10.6"
  },
  "orig_nbformat": 4
 },
 "nbformat": 4,
 "nbformat_minor": 2
}
