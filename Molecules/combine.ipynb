{
 "cells": [
  {
   "cell_type": "code",
   "execution_count": 267,
   "metadata": {},
   "outputs": [],
   "source": [
    "from rdkit import Chem\n",
    "from rdkit.Chem.Draw import IPythonConsole\n",
    "from rdkit.Chem.rdDetermineBonds import DetermineBonds\n",
    "from rdkit.Chem import Draw\n",
    "from rdkit.Chem import AllChem\n",
    "\n",
    "IPythonConsole.drawOptions.addAtomIndices = True\n",
    "IPythonConsole.drawOptions.addStereoAnnotation = False\n",
    "IPythonConsole.drawOptions.centreMoleculesBeforeDrawing = True\n",
    "IPythonConsole.molSize = 1000,500"
   ]
  },
  {
   "cell_type": "code",
   "execution_count": 268,
   "metadata": {},
   "outputs": [],
   "source": [
    "def removeAtom(mol, atomNr):\n",
    "    edFrag = Chem.EditableMol(mol)\n",
    "    edFrag.RemoveAtom(atomNr)\n",
    "    return edFrag.GetMol()\n",
    "\n",
    "def combineMolecules(mol1, mol2, index):\n",
    "    combo = Chem.CombineMols(mol1, mol2)\n",
    "    edcombo = Chem.EditableMol(combo)\n",
    "    a1, a2 = index\n",
    "    edcombo.AddBond(a1,mol1.GetNumAtoms()+ a2, order=Chem.rdchem.BondType.SINGLE)\n",
    "    combinedMol = edcombo.GetMol()\n",
    "    AllChem.EmbedMolecule(combinedMol)\n",
    "    return combinedMol\n",
    "\n",
    "def Mol2COM(molFile):\n",
    "    from openbabel import openbabel\n",
    "    obConversion = openbabel.OBConversion()\n",
    "    obConversion.SetInAndOutFormats(\"mol\", \"com\")\n",
    "\n",
    "    mol = openbabel.OBMol()\n",
    "    obConversion.ReadString(mol, molFile)\n",
    "    return obConversion.WriteString(mol)\n",
    "\n",
    "def writeCOMFile(fileName, head,coords,tail,comment=\"TEXT\"):\n",
    "    with open(\"test.com\", \"w\") as file:\n",
    "        file.write(head)\n",
    "        file.write(f\"\\n\\n{comment}\\n\\n\")\n",
    "        for line in coords:\n",
    "            file.write(f\"{line}\\n\")\n",
    "        file.write(tail)"
   ]
  },
  {
   "cell_type": "code",
   "execution_count": 269,
   "metadata": {},
   "outputs": [
    {
     "data": {
      "text/plain": [
       "0"
      ]
     },
     "execution_count": 269,
     "metadata": {},
     "output_type": "execute_result"
    }
   ],
   "source": [
    "start_mol = Chem.MolFromXYZFile(\"start.xyz\")\n",
    "DetermineBonds(start_mol,charge = 0)\n",
    "start_mol = removeAtom(start_mol, 22)\n",
    "AllChem.Compute2DCoords(start_mol)\n",
    "\n",
    "\n",
    "fragment_mol = Chem.MolFromXYZFile(\"fragment.xyz\")\n",
    "DetermineBonds(fragment_mol,charge = 0)\n",
    "fragment_mol = removeAtom(fragment_mol, 30)\n",
    "AllChem.Compute2DCoords(fragment_mol)"
   ]
  },
  {
   "cell_type": "code",
   "execution_count": 270,
   "metadata": {},
   "outputs": [],
   "source": [
    "molFile = Chem.MolToMolBlock(combineMolecules(start_mol, fragment_mol, (19,29)))\n",
    "\n",
    "molFile = Mol2COM(molFile)\n",
    "\n",
    "head = \"%Chk=F1a_ortho.chk\\n\\\n",
    "#P RHF/6-31G* Opt\"\n",
    "\n",
    "tail = \"--Link1--\\n\\\n",
    "%Chk=F1a_ortho.chk\\n\\\n",
    "#P HF/6-31G* SCF=Tight Geom=AllCheck Guess=Read\\n\\\n",
    "\tPop=MK IOp(6/33=2, 6/41=10, 6/42=17)\"\n",
    "\n",
    "writeCOMFile(\"Test\",head, list(molFile.split(\"\\n\"))[5:], tail)"
   ]
  }
 ],
 "metadata": {
  "kernelspec": {
   "display_name": ".venv",
   "language": "python",
   "name": "python3"
  },
  "language_info": {
   "codemirror_mode": {
    "name": "ipython",
    "version": 3
   },
   "file_extension": ".py",
   "mimetype": "text/x-python",
   "name": "python",
   "nbconvert_exporter": "python",
   "pygments_lexer": "ipython3",
   "version": "3.10.6"
  },
  "orig_nbformat": 4
 },
 "nbformat": 4,
 "nbformat_minor": 2
}
